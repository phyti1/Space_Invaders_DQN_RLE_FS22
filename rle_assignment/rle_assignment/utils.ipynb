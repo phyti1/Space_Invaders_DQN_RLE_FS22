{
 "cells": [
  {
   "cell_type": "code",
   "execution_count": null,
   "id": "a64760a3",
   "metadata": {},
   "outputs": [],
   "source": [
    "from typing import Tuple, Dict"
   ]
  },
  {
   "cell_type": "code",
   "execution_count": null,
   "id": "9a4916e8",
   "metadata": {},
   "outputs": [],
   "source": [
    "import numpy as np"
   ]
  },
  {
   "cell_type": "code",
   "execution_count": null,
   "id": "62aea913",
   "metadata": {},
   "outputs": [],
   "source": [
    "class LinearSchedule(object):\n",
    "    def __init__(self, initial_value: float, final_value: float, schedule_steps: int) -> None:\n",
    "        super().__init__()\n",
    "        self._initial_value = initial_value\n",
    "        self._final_value = final_value\n",
    "        self._schedule_steps = schedule_steps\n",
    "\n",
    "    def value(self, t: int):\n",
    "        interpolation = min(t / self._schedule_steps, 1.0)\n",
    "        return self._initial_value + interpolation * (self._final_value - self._initial_value)"
   ]
  },
  {
   "cell_type": "code",
   "execution_count": null,
   "id": "864e012b",
   "metadata": {},
   "outputs": [],
   "source": [
    "class RingBuffer(object):\n",
    "    def __init__(self, size, specs: Dict[str, Tuple[Tuple, np.dtype]]):\n",
    "        self.size = size\n",
    "        self.specs = specs\n",
    "        self.buffers = {k: np.empty((size,) + tuple(shape), dtype) for k, (shape, dtype) in specs.items()}\n",
    "        self.next_idx = 0\n",
    "        self.num_in_buffer = 0\n",
    "\n",
    "    def __len__(self):\n",
    "        return self.num_in_buffer\n",
    "\n",
    "    def put(self, samples: Dict[str, np.ndarray]) -> None:\n",
    "        num_samples = next(iter(samples.values())).shape[0]\n",
    "        for key, buffer in self.buffers.items():\n",
    "            features = samples[key]\n",
    "            assert features.shape[0] == num_samples\n",
    "            if self.next_idx+num_samples > self.size:\n",
    "                buffer[self.next_idx:] = features[:self.next_idx+num_samples-self.size]\n",
    "                buffer[:(self.next_idx + num_samples) % self.size] = features[self.next_idx+num_samples-self.size:]\n",
    "            else:\n",
    "                buffer[self.next_idx:self.next_idx+num_samples] = features\n",
    "        self.next_idx = (self.next_idx + num_samples) % self.size\n",
    "        self.num_in_buffer = min(self.size, self.num_in_buffer + num_samples)\n",
    "\n",
    "    def sample(self, batch_size: int) -> Dict[str, np.ndarray]:\n",
    "        idx = np.random.randint(0, self.num_in_buffer, batch_size)\n",
    "        return {\n",
    "            key: buffer[idx]\n",
    "            for key, buffer in self.buffers.items()\n",
    "        }"
   ]
  }
 ],
 "metadata": {
  "jupytext": {
   "cell_metadata_filter": "-all",
   "main_language": "python",
   "notebook_metadata_filter": "-all"
  }
 },
 "nbformat": 4,
 "nbformat_minor": 5
}
