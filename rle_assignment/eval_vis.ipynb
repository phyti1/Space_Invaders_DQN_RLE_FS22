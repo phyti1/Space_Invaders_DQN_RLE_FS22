{
 "cells": [
  {
   "cell_type": "code",
   "execution_count": null,
   "metadata": {},
   "outputs": [],
   "source": [
    "import os\n",
    "if(os.path.exists(\"./dqn_example.py\")):\n",
    "    os.chdir(\"..\")\n",
    "    \n",
    "import matplotlib.pyplot as plt\n",
    "import pandas as pd\n",
    "from absl import flags, app\n",
    "\n",
    "from run import eval"
   ]
  },
  {
   "cell_type": "code",
   "execution_count": null,
   "metadata": {},
   "outputs": [],
   "source": [
    "root = './runs/'\n",
    "folder = 'learning_rate/'\n",
    "\n",
    "eval_results = dict()\n",
    "def main(argv):\n",
    "    if(not os.path.exists(os.path.join(root, folder, 'eval.csv'))):\n",
    "        eval_dirs = os.listdir(f'{root}{folder}')\n",
    "        for eval_dir in eval_dirs:\n",
    "            eval_dir = os.path.join(folder, eval_dir, 'checkpoint-last.pt')\n",
    "            eval_results[eval_dir] = eval(eval_dir)\n",
    "            df = pd.DataFrame.from_dict(eval_results)\n",
    "            df.to_csv(os.path.join(root, folder, 'eval.csv'))\n",
    "            quit()\n",
    "        else:\n",
    "            quit()\n",
    "\n",
    "app.run(main, argv = None)"
   ]
  },
  {
   "cell_type": "code",
   "execution_count": null,
   "metadata": {},
   "outputs": [],
   "source": [
    "def show_boxplot(folder : str, title : str, ylabel :str, labels : list = None):\n",
    "    df = pd.read_csv(os.path.join(root, folder, 'eval.csv'), index_col=0)\n",
    "    fig, axs = plt.subplots(figsize=(22, 5))\n",
    "    axs.set_title(title)\n",
    "    if(labels == None):\n",
    "        labels = df.columns\n",
    "    # if(isinstance(labels[0], float)):\n",
    "    #     df.columns = labels\n",
    "    #     df = df.sort_index()\n",
    "    axs.boxplot(df, labels=labels, vert=False)\n",
    "    axs.set_xlabel(\"reward\")\n",
    "    axs.set_ylabel(ylabel)\n",
    "    plt.show()\n",
    "\n",
    "def get_labels(folder, key):\n",
    "    labels = dict()\n",
    "    # extract learning_rates from flags.txt\n",
    "    date_dirs = os.listdir(os.path.join(root, folder))\n",
    "    for date_dir in date_dirs:\n",
    "        flags_dir = os.path.join(root, folder, date_dir, 'flags.txt')\n",
    "        if(os.path.exists(flags_dir)):\n",
    "            with open(flags_dir, 'r') as f:\n",
    "                lines = f.readlines()\n",
    "                for line in lines:\n",
    "                    if(line.startswith(f'--{key}')):\n",
    "                        labels[date_dir] = line.split('=')[1].strip()\n",
    "    return labels\n",
    "    "
   ]
  },
  {
   "cell_type": "code",
   "execution_count": null,
   "metadata": {},
   "outputs": [],
   "source": [
    "show_boxplot('warmup', 'Evaluation Results [n warmup steps]', \"n warmup steps\", get_labels('warmup', 'warmup_steps').values()) # ['0', '10k', '50k', '300k']"
   ]
  },
  {
   "cell_type": "code",
   "execution_count": null,
   "metadata": {},
   "outputs": [],
   "source": [
    "show_boxplot('learning_rate', 'Evaluation Results [learning rate]', \"learning rate\", [float(x) for x in get_labels('learning_rate', 'learning_rate').values()])"
   ]
  }
 ],
 "metadata": {
  "interpreter": {
   "hash": "11938c6bc6919ae2720b4d5011047913343b08a43b18698fd82dedb0d4417594"
  },
  "kernelspec": {
   "display_name": "Python 3.9.4 64-bit",
   "language": "python",
   "name": "python3"
  },
  "language_info": {
   "codemirror_mode": {
    "name": "ipython",
    "version": 3
   },
   "file_extension": ".py",
   "mimetype": "text/x-python",
   "name": "python",
   "nbconvert_exporter": "python",
   "pygments_lexer": "ipython3",
   "version": "3.9.4"
  },
  "orig_nbformat": 4
 },
 "nbformat": 4,
 "nbformat_minor": 2
}
