{
 "cells": [
  {
   "cell_type": "code",
   "execution_count": 2,
   "id": "26f29891",
   "metadata": {},
   "outputs": [],
   "source": [
    "import datetime\n",
    "import os\n",
    "import random\n",
    "import time\n",
    "from collections import defaultdict\n",
    "from typing import Callable, Optional"
   ]
  },
  {
   "cell_type": "code",
   "execution_count": 3,
   "id": "b60ab317",
   "metadata": {},
   "outputs": [],
   "source": [
    "import gym\n",
    "import numpy as np\n",
    "from absl import flags, app\n",
    "from tensorboardX import SummaryWriter"
   ]
  },
  {
   "cell_type": "code",
   "execution_count": 6,
   "id": "6a8510c8",
   "metadata": {},
   "outputs": [],
   "source": [
    "import os\n",
    "os.chdir(\"./persistent\")"
   ]
  },
  {
   "cell_type": "code",
   "execution_count": 7,
   "id": "1c382794",
   "metadata": {},
   "outputs": [],
   "source": [
    "import rle_assignment.env"
   ]
  },
  {
   "cell_type": "code",
   "execution_count": 8,
   "id": "539573e4",
   "metadata": {},
   "outputs": [
    {
     "data": {
      "text/plain": [
       "<absl.flags._flagvalues.FlagHolder at 0x7fdae586b160>"
      ]
     },
     "execution_count": 8,
     "metadata": {},
     "output_type": "execute_result"
    }
   ],
   "source": [
    "# common flags\n",
    "flags.DEFINE_enum('mode', 'eval', ['train', 'eval'], 'Run mode.')\n",
    "flags.DEFINE_string('logdir', './runs', 'Directory where all outputs are written to.')\n",
    "flags.DEFINE_string('run_name', datetime.datetime.now().strftime('%Y-%m-%d_%H-%M-%S'), 'Run name.')\n",
    "flags.DEFINE_bool('cuda', True, 'Whether to run the model on gpu or on cpu.')\n",
    "flags.DEFINE_integer('seed', 42, 'Random seed.')"
   ]
  },
  {
   "cell_type": "code",
   "execution_count": 9,
   "id": "a6f1ff6b",
   "metadata": {},
   "outputs": [
    {
     "data": {
      "text/plain": [
       "<absl.flags._flagvalues.FlagHolder at 0x7fdae58c5850>"
      ]
     },
     "execution_count": 9,
     "metadata": {},
     "output_type": "execute_result"
    }
   ],
   "source": [
    "# train flags\n",
    "# TODO: add your train parameters here\n",
    "flags.DEFINE_integer('num_envs', 2, 'Number of parallel env processes.')\n",
    "flags.DEFINE_integer('total_steps', 10_000_000, 'Total number of agent steps.')\n",
    "flags.DEFINE_integer('checkpoint_freq', 100_000, 'Frequency at which checkpoints are stored.')\n",
    "flags.DEFINE_integer('logging_freq', 10_000, 'Frequency at which logs are written.')"
   ]
  },
  {
   "cell_type": "code",
   "execution_count": 10,
   "id": "4be063b5",
   "metadata": {
    "lines_to_next_cell": 2
   },
   "outputs": [
    {
     "data": {
      "text/plain": [
       "<absl.flags._flagvalues.FlagHolder at 0x7fdae58bf460>"
      ]
     },
     "execution_count": 10,
     "metadata": {},
     "output_type": "execute_result"
    }
   ],
   "source": [
    "# eval flags\n",
    "# TODO: add your eval parameters here\n",
    "flags.DEFINE_integer('eval_num_episodes', 30, 'Number of eval episodes.')\n",
    "flags.DEFINE_bool('eval_render', False, 'Render env during eval.')\n",
    "flags.DEFINE_integer('eval_seed', 1234, 'Eval seed.')"
   ]
  },
  {
   "cell_type": "code",
   "execution_count": 11,
   "id": "15801777",
   "metadata": {},
   "outputs": [],
   "source": [
    "FLAGS = flags.FLAGS"
   ]
  },
  {
   "cell_type": "code",
   "execution_count": 12,
   "id": "56fce505",
   "metadata": {},
   "outputs": [],
   "source": [
    "def make_env_fn(seed: int, render_human: bool = False, video_folder: Optional[str] = None) -> Callable[[], gym.Env]:\n",
    "    \"\"\" returns a pickleable callable to create an env instance \"\"\"\n",
    "    def env_fn():\n",
    "        env = rle_assignment.env.make_env(render_human, video_folder)\n",
    "\n",
    "        # TODO: maybe add other gym.wrappers\n",
    "\n",
    "        env.seed(seed)\n",
    "        env.action_space.seed(seed)\n",
    "        env.observation_space.seed(seed)\n",
    "        return env\n",
    "    return env_fn"
   ]
  },
  {
   "cell_type": "code",
   "execution_count": 13,
   "id": "967b2fee",
   "metadata": {},
   "outputs": [],
   "source": [
    "def train():\n",
    "    random.seed(FLAGS.seed)\n",
    "    np.random.seed(FLAGS.seed)\n",
    "\n",
    "    logdir = os.path.join(FLAGS.logdir, FLAGS.run_name)\n",
    "    os.makedirs(logdir, exist_ok=False)\n",
    "\n",
    "    FLAGS.append_flags_into_file(os.path.join(logdir, 'flags.txt'))\n",
    "\n",
    "    writer = SummaryWriter(os.path.join(logdir, 'logs'))\n",
    "    writer.add_text(\"config\", FLAGS.flags_into_string())\n",
    "\n",
    "    # initialize environments\n",
    "    envs = gym.vector.AsyncVectorEnv([\n",
    "        make_env_fn(seed=FLAGS.seed, video_folder=os.path.join(logdir, 'videos', 'train') if i == 0 else None)\n",
    "        for i in range(FLAGS.num_envs)])\n",
    "\n",
    "    env_name = envs.get_attr('spec')[0].name\n",
    "\n",
    "    # TODO: initialize agent, algorithm, etc...\n",
    "\n",
    "    logs = defaultdict(list)\n",
    "    last_log_frame = 0\n",
    "    last_log_time = time.time()\n",
    "    total_frames = 0\n",
    "\n",
    "    obs = envs.reset()\n",
    "\n",
    "    for global_step in range(FLAGS.total_steps):\n",
    "\n",
    "        # TODO: select actions (one for each environment)\n",
    "\n",
    "        # execute actions in environment\n",
    "        new_obs, rewards, dones, infos = envs.step(actions)\n",
    "        for done, info in zip(dones, infos):\n",
    "            if done and \"episode\" in info.keys():\n",
    "                logs[f\"{env_name}/episode_frames\"].append(info[\"episode_frame_number\"])\n",
    "                logs[f\"{env_name}/episode_reward\"].append(info[\"episode\"][\"r\"])\n",
    "                logs[f\"{env_name}/episode_steps\"].append(info[\"episode\"][\"l\"])\n",
    "                total_frames += info[\"episode_frame_number\"]\n",
    "\n",
    "        # vector envs reset automatically, so we have to manually get the terminal observations for these steps\n",
    "        next_obs = new_obs.copy()\n",
    "        for i, done in enumerate(dones):\n",
    "            if done and infos[i].get(\"terminal_observation\") is not None:\n",
    "                next_obs[i] = infos[i][\"terminal_observation\"]\n",
    "\n",
    "        # TODO: update agent\n",
    "\n",
    "        # set obs to new obs for next step\n",
    "        obs = new_obs\n",
    "\n",
    "        # store checkpoint\n",
    "        if global_step % FLAGS.checkpoint_freq == 0:\n",
    "\n",
    "            # TODO: save agent checkpoint\n",
    "\n",
    "            pass\n",
    "\n",
    "        # logging\n",
    "        if global_step % FLAGS.logging_freq == 0:\n",
    "            current_log_time = time.time()\n",
    "            fps = (total_frames - last_log_frame) / (current_log_time - last_log_time)\n",
    "            writer.add_scalar(\"fps\", fps, total_frames)\n",
    "            writer.add_scalar('steps', global_step, total_frames)\n",
    "            for k, v in logs.items():\n",
    "                writer.add_scalar(f'{k}/mean', np.mean(v), total_frames)\n",
    "                writer.add_scalar(f'{k}/std', np.std(v), total_frames)\n",
    "                writer.add_scalar(f'{k}/min', np.min(v), total_frames)\n",
    "                writer.add_scalar(f'{k}/max', np.max(v), total_frames)\n",
    "            logs['fps'].append(fps)\n",
    "            print(\" | \".join([f\"step={global_step}\"] + [f\"{k}={np.mean(v):.2f}\" for k, v in sorted(logs.items())]))\n",
    "            logs = defaultdict(list)\n",
    "            last_log_frame = total_frames\n",
    "            last_log_time = current_log_time\n",
    "\n",
    "    envs.close()\n",
    "\n",
    "    # TODO: save agent checkpoint"
   ]
  },
  {
   "cell_type": "code",
   "execution_count": 14,
   "id": "9ccba1a1",
   "metadata": {},
   "outputs": [],
   "source": [
    "def eval():\n",
    "    env_fn = make_env_fn(FLAGS.eval_seed, FLAGS.eval_render)\n",
    "    env = env_fn()\n",
    "\n",
    "    # TODO: initialize agent and load checkpoint\n",
    "\n",
    "    episode_rewards = []\n",
    "\n",
    "    for episode_idx in range(FLAGS.eval_num_episodes):\n",
    "        obs = env.reset()\n",
    "        done = False\n",
    "        step = 0\n",
    "        while not done:\n",
    "\n",
    "            # TODO: select action\n",
    "\n",
    "            obs, reward, done, info = env.step(action)\n",
    "            step += 1\n",
    "\n",
    "            if done:\n",
    "                print(f\"Episode {episode_idx}: \"\n",
    "                      f\"reward={info['episode']['r']}, \"\n",
    "                      f\"steps={step}, \"\n",
    "                      f\"frames={info['episode_frame_number']}\")\n",
    "                episode_rewards.append(info['episode']['r'])\n",
    "\n",
    "    print(f\"Evaluation completed: \"\n",
    "          f\"mean_episode_reward={np.mean(episode_rewards):.2f}, \"\n",
    "          f\"std_episode_reward={np.std(episode_rewards):.2f}, \"\n",
    "          f\"min_episode_reward={np.min(episode_rewards):.2f}, \"\n",
    "          f\"max_episode_reward={np.max(episode_rewards):.2f}\")\n",
    "    env.close()"
   ]
  },
  {
   "cell_type": "code",
   "execution_count": 15,
   "id": "3cb31e47",
   "metadata": {},
   "outputs": [],
   "source": [
    "def main(_):\n",
    "    if FLAGS.mode == 'train':\n",
    "        train()\n",
    "    elif FLAGS.mode == 'eval':\n",
    "        eval()"
   ]
  },
  {
   "cell_type": "code",
   "execution_count": 16,
   "id": "cbafde56",
   "metadata": {},
   "outputs": [
    {
     "name": "stderr",
     "output_type": "stream",
     "text": [
      "FATAL Flags parsing error: Unknown command line flag 'f'\n",
      "Pass --helpshort or --helpfull to see help on flags.\n"
     ]
    },
    {
     "ename": "AssertionError",
     "evalue": "",
     "output_type": "error",
     "traceback": [
      "\u001b[0;31m---------------------------------------------------------------------------\u001b[0m",
      "\u001b[0;31mUnrecognizedFlagError\u001b[0m                     Traceback (most recent call last)",
      "File \u001b[0;32m/opt/conda/lib/python3.9/site-packages/absl/app.py:160\u001b[0m, in \u001b[0;36mparse_flags_with_usage\u001b[0;34m(args)\u001b[0m\n\u001b[1;32m    <a href='file:///opt/conda/lib/python3.9/site-packages/absl/app.py?line=158'>159</a>\u001b[0m \u001b[39mtry\u001b[39;00m:\n\u001b[0;32m--> <a href='file:///opt/conda/lib/python3.9/site-packages/absl/app.py?line=159'>160</a>\u001b[0m   \u001b[39mreturn\u001b[39;00m FLAGS(args)\n\u001b[1;32m    <a href='file:///opt/conda/lib/python3.9/site-packages/absl/app.py?line=160'>161</a>\u001b[0m \u001b[39mexcept\u001b[39;00m flags\u001b[39m.\u001b[39mError \u001b[39mas\u001b[39;00m error:\n",
      "File \u001b[0;32m/opt/conda/lib/python3.9/site-packages/absl/flags/_flagvalues.py:669\u001b[0m, in \u001b[0;36mFlagValues.__call__\u001b[0;34m(self, argv, known_only)\u001b[0m\n\u001b[1;32m    <a href='file:///opt/conda/lib/python3.9/site-packages/absl/flags/_flagvalues.py?line=667'>668</a>\u001b[0m   suggestions \u001b[39m=\u001b[39m _helpers\u001b[39m.\u001b[39mget_flag_suggestions(name, \u001b[39mlist\u001b[39m(\u001b[39mself\u001b[39m))\n\u001b[0;32m--> <a href='file:///opt/conda/lib/python3.9/site-packages/absl/flags/_flagvalues.py?line=668'>669</a>\u001b[0m   \u001b[39mraise\u001b[39;00m _exceptions\u001b[39m.\u001b[39mUnrecognizedFlagError(\n\u001b[1;32m    <a href='file:///opt/conda/lib/python3.9/site-packages/absl/flags/_flagvalues.py?line=669'>670</a>\u001b[0m       name, value, suggestions\u001b[39m=\u001b[39msuggestions)\n\u001b[1;32m    <a href='file:///opt/conda/lib/python3.9/site-packages/absl/flags/_flagvalues.py?line=671'>672</a>\u001b[0m \u001b[39mself\u001b[39m\u001b[39m.\u001b[39mmark_as_parsed()\n",
      "\u001b[0;31mUnrecognizedFlagError\u001b[0m: Unknown command line flag 'f'",
      "\nDuring handling of the above exception, another exception occurred:\n",
      "\u001b[0;31mSystemExit\u001b[0m                                Traceback (most recent call last)",
      "    \u001b[0;31m[... skipping hidden 1 frame]\u001b[0m\n",
      "\u001b[1;32mc:\\Projects\\schule\\rle_MC1\\rle-assginment\\run.ipynb Cell 13'\u001b[0m in \u001b[0;36m<module>\u001b[0;34m\u001b[0m\n\u001b[1;32m      <a href='vscode-notebook-cell:/c%3A/Projects/schule/rle_MC1/rle-assginment/run.ipynb#ch0000011?line=0'>1</a>\u001b[0m \u001b[39mif\u001b[39;00m \u001b[39m__name__\u001b[39m \u001b[39m==\u001b[39m \u001b[39m\"\u001b[39m\u001b[39m__main__\u001b[39m\u001b[39m\"\u001b[39m:\n\u001b[0;32m----> <a href='vscode-notebook-cell:/c%3A/Projects/schule/rle_MC1/rle-assginment/run.ipynb#ch0000011?line=1'>2</a>\u001b[0m     app\u001b[39m.\u001b[39;49mrun(main)\n",
      "File \u001b[0;32m/opt/conda/lib/python3.9/site-packages/absl/app.py:304\u001b[0m, in \u001b[0;36mrun\u001b[0;34m(main, argv, flags_parser)\u001b[0m\n\u001b[1;32m    <a href='file:///opt/conda/lib/python3.9/site-packages/absl/app.py?line=302'>303</a>\u001b[0m \u001b[39mtry\u001b[39;00m:\n\u001b[0;32m--> <a href='file:///opt/conda/lib/python3.9/site-packages/absl/app.py?line=303'>304</a>\u001b[0m   args \u001b[39m=\u001b[39m _run_init(\n\u001b[1;32m    <a href='file:///opt/conda/lib/python3.9/site-packages/absl/app.py?line=304'>305</a>\u001b[0m       sys\u001b[39m.\u001b[39;49margv \u001b[39mif\u001b[39;49;00m argv \u001b[39mis\u001b[39;49;00m \u001b[39mNone\u001b[39;49;00m \u001b[39melse\u001b[39;49;00m argv,\n\u001b[1;32m    <a href='file:///opt/conda/lib/python3.9/site-packages/absl/app.py?line=305'>306</a>\u001b[0m       flags_parser,\n\u001b[1;32m    <a href='file:///opt/conda/lib/python3.9/site-packages/absl/app.py?line=306'>307</a>\u001b[0m   )\n\u001b[1;32m    <a href='file:///opt/conda/lib/python3.9/site-packages/absl/app.py?line=307'>308</a>\u001b[0m   \u001b[39mwhile\u001b[39;00m _init_callbacks:\n",
      "File \u001b[0;32m/opt/conda/lib/python3.9/site-packages/absl/app.py:373\u001b[0m, in \u001b[0;36m_run_init\u001b[0;34m(argv, flags_parser)\u001b[0m\n\u001b[1;32m    <a href='file:///opt/conda/lib/python3.9/site-packages/absl/app.py?line=371'>372</a>\u001b[0m logging\u001b[39m.\u001b[39muse_absl_handler()\n\u001b[0;32m--> <a href='file:///opt/conda/lib/python3.9/site-packages/absl/app.py?line=372'>373</a>\u001b[0m args \u001b[39m=\u001b[39m _register_and_parse_flags_with_usage(\n\u001b[1;32m    <a href='file:///opt/conda/lib/python3.9/site-packages/absl/app.py?line=373'>374</a>\u001b[0m     argv\u001b[39m=\u001b[39;49margv,\n\u001b[1;32m    <a href='file:///opt/conda/lib/python3.9/site-packages/absl/app.py?line=374'>375</a>\u001b[0m     flags_parser\u001b[39m=\u001b[39;49mflags_parser,\n\u001b[1;32m    <a href='file:///opt/conda/lib/python3.9/site-packages/absl/app.py?line=375'>376</a>\u001b[0m )\n\u001b[1;32m    <a href='file:///opt/conda/lib/python3.9/site-packages/absl/app.py?line=376'>377</a>\u001b[0m \u001b[39mif\u001b[39;00m faulthandler:\n",
      "File \u001b[0;32m/opt/conda/lib/python3.9/site-packages/absl/app.py:220\u001b[0m, in \u001b[0;36m_register_and_parse_flags_with_usage\u001b[0;34m(argv, flags_parser)\u001b[0m\n\u001b[1;32m    <a href='file:///opt/conda/lib/python3.9/site-packages/absl/app.py?line=218'>219</a>\u001b[0m original_argv \u001b[39m=\u001b[39m sys\u001b[39m.\u001b[39margv \u001b[39mif\u001b[39;00m argv \u001b[39mis\u001b[39;00m \u001b[39mNone\u001b[39;00m \u001b[39melse\u001b[39;00m argv\n\u001b[0;32m--> <a href='file:///opt/conda/lib/python3.9/site-packages/absl/app.py?line=219'>220</a>\u001b[0m args_to_main \u001b[39m=\u001b[39m flags_parser(original_argv)\n\u001b[1;32m    <a href='file:///opt/conda/lib/python3.9/site-packages/absl/app.py?line=220'>221</a>\u001b[0m \u001b[39mif\u001b[39;00m \u001b[39mnot\u001b[39;00m FLAGS\u001b[39m.\u001b[39mis_parsed():\n",
      "File \u001b[0;32m/opt/conda/lib/python3.9/site-packages/absl/app.py:170\u001b[0m, in \u001b[0;36mparse_flags_with_usage\u001b[0;34m(args)\u001b[0m\n\u001b[1;32m    <a href='file:///opt/conda/lib/python3.9/site-packages/absl/app.py?line=168'>169</a>\u001b[0m sys\u001b[39m.\u001b[39mstderr\u001b[39m.\u001b[39mwrite(\u001b[39m'\u001b[39m\u001b[39mPass --helpshort or --helpfull to see help on flags.\u001b[39m\u001b[39m\\n\u001b[39;00m\u001b[39m'\u001b[39m)\n\u001b[0;32m--> <a href='file:///opt/conda/lib/python3.9/site-packages/absl/app.py?line=169'>170</a>\u001b[0m sys\u001b[39m.\u001b[39;49mexit(\u001b[39m1\u001b[39;49m)\n",
      "\u001b[0;31mSystemExit\u001b[0m: 1",
      "\nDuring handling of the above exception, another exception occurred:\n",
      "\u001b[0;31mAssertionError\u001b[0m                            Traceback (most recent call last)",
      "    \u001b[0;31m[... skipping hidden 1 frame]\u001b[0m\n",
      "File \u001b[0;32m/opt/conda/lib/python3.9/site-packages/IPython/core/interactiveshell.py:1927\u001b[0m, in \u001b[0;36mInteractiveShell.showtraceback\u001b[0;34m(self, exc_tuple, filename, tb_offset, exception_only, running_compiled_code)\u001b[0m\n\u001b[1;32m   <a href='file:///opt/conda/lib/python3.9/site-packages/IPython/core/interactiveshell.py?line=1923'>1924</a>\u001b[0m \u001b[39mif\u001b[39;00m exception_only:\n\u001b[1;32m   <a href='file:///opt/conda/lib/python3.9/site-packages/IPython/core/interactiveshell.py?line=1924'>1925</a>\u001b[0m     stb \u001b[39m=\u001b[39m [\u001b[39m'\u001b[39m\u001b[39mAn exception has occurred, use \u001b[39m\u001b[39m%\u001b[39m\u001b[39mtb to see \u001b[39m\u001b[39m'\u001b[39m\n\u001b[1;32m   <a href='file:///opt/conda/lib/python3.9/site-packages/IPython/core/interactiveshell.py?line=1925'>1926</a>\u001b[0m            \u001b[39m'\u001b[39m\u001b[39mthe full traceback.\u001b[39m\u001b[39m\\n\u001b[39;00m\u001b[39m'\u001b[39m]\n\u001b[0;32m-> <a href='file:///opt/conda/lib/python3.9/site-packages/IPython/core/interactiveshell.py?line=1926'>1927</a>\u001b[0m     stb\u001b[39m.\u001b[39mextend(\u001b[39mself\u001b[39;49m\u001b[39m.\u001b[39;49mInteractiveTB\u001b[39m.\u001b[39;49mget_exception_only(etype,\n\u001b[1;32m   <a href='file:///opt/conda/lib/python3.9/site-packages/IPython/core/interactiveshell.py?line=1927'>1928</a>\u001b[0m                                                      value))\n\u001b[1;32m   <a href='file:///opt/conda/lib/python3.9/site-packages/IPython/core/interactiveshell.py?line=1928'>1929</a>\u001b[0m \u001b[39melse\u001b[39;00m:\n\u001b[1;32m   <a href='file:///opt/conda/lib/python3.9/site-packages/IPython/core/interactiveshell.py?line=1929'>1930</a>\u001b[0m     \u001b[39mtry\u001b[39;00m:\n\u001b[1;32m   <a href='file:///opt/conda/lib/python3.9/site-packages/IPython/core/interactiveshell.py?line=1930'>1931</a>\u001b[0m         \u001b[39m# Exception classes can customise their traceback - we\u001b[39;00m\n\u001b[1;32m   <a href='file:///opt/conda/lib/python3.9/site-packages/IPython/core/interactiveshell.py?line=1931'>1932</a>\u001b[0m         \u001b[39m# use this in IPython.parallel for exceptions occurring\u001b[39;00m\n\u001b[1;32m   <a href='file:///opt/conda/lib/python3.9/site-packages/IPython/core/interactiveshell.py?line=1932'>1933</a>\u001b[0m         \u001b[39m# in the engines. This should return a list of strings.\u001b[39;00m\n",
      "File \u001b[0;32m/opt/conda/lib/python3.9/site-packages/IPython/core/ultratb.py:578\u001b[0m, in \u001b[0;36mListTB.get_exception_only\u001b[0;34m(self, etype, value)\u001b[0m\n\u001b[1;32m    <a href='file:///opt/conda/lib/python3.9/site-packages/IPython/core/ultratb.py?line=569'>570</a>\u001b[0m \u001b[39mdef\u001b[39;00m \u001b[39mget_exception_only\u001b[39m(\u001b[39mself\u001b[39m, etype, value):\n\u001b[1;32m    <a href='file:///opt/conda/lib/python3.9/site-packages/IPython/core/ultratb.py?line=570'>571</a>\u001b[0m     \u001b[39m\"\"\"Only print the exception type and message, without a traceback.\u001b[39;00m\n\u001b[1;32m    <a href='file:///opt/conda/lib/python3.9/site-packages/IPython/core/ultratb.py?line=571'>572</a>\u001b[0m \n\u001b[1;32m    <a href='file:///opt/conda/lib/python3.9/site-packages/IPython/core/ultratb.py?line=572'>573</a>\u001b[0m \u001b[39m    Parameters\u001b[39;00m\n\u001b[0;32m   (...)\u001b[0m\n\u001b[1;32m    <a href='file:///opt/conda/lib/python3.9/site-packages/IPython/core/ultratb.py?line=575'>576</a>\u001b[0m \u001b[39m    value : exception value\u001b[39;00m\n\u001b[1;32m    <a href='file:///opt/conda/lib/python3.9/site-packages/IPython/core/ultratb.py?line=576'>577</a>\u001b[0m \u001b[39m    \"\"\"\u001b[39;00m\n\u001b[0;32m--> <a href='file:///opt/conda/lib/python3.9/site-packages/IPython/core/ultratb.py?line=577'>578</a>\u001b[0m     \u001b[39mreturn\u001b[39;00m ListTB\u001b[39m.\u001b[39;49mstructured_traceback(\u001b[39mself\u001b[39;49m, etype, value)\n",
      "File \u001b[0;32m/opt/conda/lib/python3.9/site-packages/IPython/core/ultratb.py:436\u001b[0m, in \u001b[0;36mListTB.structured_traceback\u001b[0;34m(self, etype, evalue, etb, tb_offset, context)\u001b[0m\n\u001b[1;32m    <a href='file:///opt/conda/lib/python3.9/site-packages/IPython/core/ultratb.py?line=432'>433</a>\u001b[0m     chained_exc_ids\u001b[39m.\u001b[39madd(\u001b[39mid\u001b[39m(exception[\u001b[39m1\u001b[39m]))\n\u001b[1;32m    <a href='file:///opt/conda/lib/python3.9/site-packages/IPython/core/ultratb.py?line=433'>434</a>\u001b[0m     chained_exceptions_tb_offset \u001b[39m=\u001b[39m \u001b[39m0\u001b[39m\n\u001b[1;32m    <a href='file:///opt/conda/lib/python3.9/site-packages/IPython/core/ultratb.py?line=434'>435</a>\u001b[0m     out_list \u001b[39m=\u001b[39m (\n\u001b[0;32m--> <a href='file:///opt/conda/lib/python3.9/site-packages/IPython/core/ultratb.py?line=435'>436</a>\u001b[0m         \u001b[39mself\u001b[39;49m\u001b[39m.\u001b[39;49mstructured_traceback(\n\u001b[1;32m    <a href='file:///opt/conda/lib/python3.9/site-packages/IPython/core/ultratb.py?line=436'>437</a>\u001b[0m             etype, evalue, (etb, chained_exc_ids),\n\u001b[1;32m    <a href='file:///opt/conda/lib/python3.9/site-packages/IPython/core/ultratb.py?line=437'>438</a>\u001b[0m             chained_exceptions_tb_offset, context)\n\u001b[1;32m    <a href='file:///opt/conda/lib/python3.9/site-packages/IPython/core/ultratb.py?line=438'>439</a>\u001b[0m         \u001b[39m+\u001b[39m chained_exception_message\n\u001b[1;32m    <a href='file:///opt/conda/lib/python3.9/site-packages/IPython/core/ultratb.py?line=439'>440</a>\u001b[0m         \u001b[39m+\u001b[39m out_list)\n\u001b[1;32m    <a href='file:///opt/conda/lib/python3.9/site-packages/IPython/core/ultratb.py?line=441'>442</a>\u001b[0m \u001b[39mreturn\u001b[39;00m out_list\n",
      "File \u001b[0;32m/opt/conda/lib/python3.9/site-packages/IPython/core/ultratb.py:1105\u001b[0m, in \u001b[0;36mAutoFormattedTB.structured_traceback\u001b[0;34m(self, etype, value, tb, tb_offset, number_of_lines_of_context)\u001b[0m\n\u001b[1;32m   <a href='file:///opt/conda/lib/python3.9/site-packages/IPython/core/ultratb.py?line=1102'>1103</a>\u001b[0m \u001b[39melse\u001b[39;00m:\n\u001b[1;32m   <a href='file:///opt/conda/lib/python3.9/site-packages/IPython/core/ultratb.py?line=1103'>1104</a>\u001b[0m     \u001b[39mself\u001b[39m\u001b[39m.\u001b[39mtb \u001b[39m=\u001b[39m tb\n\u001b[0;32m-> <a href='file:///opt/conda/lib/python3.9/site-packages/IPython/core/ultratb.py?line=1104'>1105</a>\u001b[0m \u001b[39mreturn\u001b[39;00m FormattedTB\u001b[39m.\u001b[39;49mstructured_traceback(\n\u001b[1;32m   <a href='file:///opt/conda/lib/python3.9/site-packages/IPython/core/ultratb.py?line=1105'>1106</a>\u001b[0m     \u001b[39mself\u001b[39;49m, etype, value, tb, tb_offset, number_of_lines_of_context)\n",
      "File \u001b[0;32m/opt/conda/lib/python3.9/site-packages/IPython/core/ultratb.py:999\u001b[0m, in \u001b[0;36mFormattedTB.structured_traceback\u001b[0;34m(self, etype, value, tb, tb_offset, number_of_lines_of_context)\u001b[0m\n\u001b[1;32m    <a href='file:///opt/conda/lib/python3.9/site-packages/IPython/core/ultratb.py?line=995'>996</a>\u001b[0m mode \u001b[39m=\u001b[39m \u001b[39mself\u001b[39m\u001b[39m.\u001b[39mmode\n\u001b[1;32m    <a href='file:///opt/conda/lib/python3.9/site-packages/IPython/core/ultratb.py?line=996'>997</a>\u001b[0m \u001b[39mif\u001b[39;00m mode \u001b[39min\u001b[39;00m \u001b[39mself\u001b[39m\u001b[39m.\u001b[39mverbose_modes:\n\u001b[1;32m    <a href='file:///opt/conda/lib/python3.9/site-packages/IPython/core/ultratb.py?line=997'>998</a>\u001b[0m     \u001b[39m# Verbose modes need a full traceback\u001b[39;00m\n\u001b[0;32m--> <a href='file:///opt/conda/lib/python3.9/site-packages/IPython/core/ultratb.py?line=998'>999</a>\u001b[0m     \u001b[39mreturn\u001b[39;00m VerboseTB\u001b[39m.\u001b[39;49mstructured_traceback(\n\u001b[1;32m   <a href='file:///opt/conda/lib/python3.9/site-packages/IPython/core/ultratb.py?line=999'>1000</a>\u001b[0m         \u001b[39mself\u001b[39;49m, etype, value, tb, tb_offset, number_of_lines_of_context\n\u001b[1;32m   <a href='file:///opt/conda/lib/python3.9/site-packages/IPython/core/ultratb.py?line=1000'>1001</a>\u001b[0m     )\n\u001b[1;32m   <a href='file:///opt/conda/lib/python3.9/site-packages/IPython/core/ultratb.py?line=1001'>1002</a>\u001b[0m \u001b[39melif\u001b[39;00m mode \u001b[39m==\u001b[39m \u001b[39m'\u001b[39m\u001b[39mMinimal\u001b[39m\u001b[39m'\u001b[39m:\n\u001b[1;32m   <a href='file:///opt/conda/lib/python3.9/site-packages/IPython/core/ultratb.py?line=1002'>1003</a>\u001b[0m     \u001b[39mreturn\u001b[39;00m ListTB\u001b[39m.\u001b[39mget_exception_only(\u001b[39mself\u001b[39m, etype, value)\n",
      "File \u001b[0;32m/opt/conda/lib/python3.9/site-packages/IPython/core/ultratb.py:852\u001b[0m, in \u001b[0;36mVerboseTB.structured_traceback\u001b[0;34m(self, etype, evalue, etb, tb_offset, number_of_lines_of_context)\u001b[0m\n\u001b[1;32m    <a href='file:///opt/conda/lib/python3.9/site-packages/IPython/core/ultratb.py?line=849'>850</a>\u001b[0m \u001b[39m\"\"\"Return a nice text document describing the traceback.\"\"\"\u001b[39;00m\n\u001b[1;32m    <a href='file:///opt/conda/lib/python3.9/site-packages/IPython/core/ultratb.py?line=850'>851</a>\u001b[0m \u001b[39massert\u001b[39;00m etb \u001b[39mis\u001b[39;00m \u001b[39mnot\u001b[39;00m \u001b[39mNone\u001b[39;00m\n\u001b[0;32m--> <a href='file:///opt/conda/lib/python3.9/site-packages/IPython/core/ultratb.py?line=851'>852</a>\u001b[0m formatted_exception \u001b[39m=\u001b[39m \u001b[39mself\u001b[39;49m\u001b[39m.\u001b[39;49mformat_exception_as_a_whole(etype, evalue, etb, number_of_lines_of_context,\n\u001b[1;32m    <a href='file:///opt/conda/lib/python3.9/site-packages/IPython/core/ultratb.py?line=852'>853</a>\u001b[0m                                                        tb_offset)\n\u001b[1;32m    <a href='file:///opt/conda/lib/python3.9/site-packages/IPython/core/ultratb.py?line=854'>855</a>\u001b[0m colors \u001b[39m=\u001b[39m \u001b[39mself\u001b[39m\u001b[39m.\u001b[39mColors  \u001b[39m# just a shorthand + quicker name lookup\u001b[39;00m\n\u001b[1;32m    <a href='file:///opt/conda/lib/python3.9/site-packages/IPython/core/ultratb.py?line=855'>856</a>\u001b[0m colorsnormal \u001b[39m=\u001b[39m colors\u001b[39m.\u001b[39mNormal  \u001b[39m# used a lot\u001b[39;00m\n",
      "File \u001b[0;32m/opt/conda/lib/python3.9/site-packages/IPython/core/ultratb.py:786\u001b[0m, in \u001b[0;36mVerboseTB.format_exception_as_a_whole\u001b[0;34m(self, etype, evalue, etb, number_of_lines_of_context, tb_offset)\u001b[0m\n\u001b[1;32m    <a href='file:///opt/conda/lib/python3.9/site-packages/IPython/core/ultratb.py?line=783'>784</a>\u001b[0m \u001b[39massert\u001b[39;00m \u001b[39misinstance\u001b[39m(tb_offset, \u001b[39mint\u001b[39m)\n\u001b[1;32m    <a href='file:///opt/conda/lib/python3.9/site-packages/IPython/core/ultratb.py?line=784'>785</a>\u001b[0m head \u001b[39m=\u001b[39m \u001b[39mself\u001b[39m\u001b[39m.\u001b[39mprepare_header(etype, \u001b[39mself\u001b[39m\u001b[39m.\u001b[39mlong_header)\n\u001b[0;32m--> <a href='file:///opt/conda/lib/python3.9/site-packages/IPython/core/ultratb.py?line=785'>786</a>\u001b[0m records \u001b[39m=\u001b[39m \u001b[39mself\u001b[39;49m\u001b[39m.\u001b[39;49mget_records(etb, number_of_lines_of_context, tb_offset)\n\u001b[1;32m    <a href='file:///opt/conda/lib/python3.9/site-packages/IPython/core/ultratb.py?line=787'>788</a>\u001b[0m frames \u001b[39m=\u001b[39m []\n\u001b[1;32m    <a href='file:///opt/conda/lib/python3.9/site-packages/IPython/core/ultratb.py?line=788'>789</a>\u001b[0m skipped \u001b[39m=\u001b[39m \u001b[39m0\u001b[39m\n",
      "File \u001b[0;32m/opt/conda/lib/python3.9/site-packages/IPython/core/ultratb.py:840\u001b[0m, in \u001b[0;36mVerboseTB.get_records\u001b[0;34m(self, etb, number_of_lines_of_context, tb_offset)\u001b[0m\n\u001b[1;32m    <a href='file:///opt/conda/lib/python3.9/site-packages/IPython/core/ultratb.py?line=833'>834</a>\u001b[0m options \u001b[39m=\u001b[39m stack_data\u001b[39m.\u001b[39mOptions(\n\u001b[1;32m    <a href='file:///opt/conda/lib/python3.9/site-packages/IPython/core/ultratb.py?line=834'>835</a>\u001b[0m     before\u001b[39m=\u001b[39mbefore,\n\u001b[1;32m    <a href='file:///opt/conda/lib/python3.9/site-packages/IPython/core/ultratb.py?line=835'>836</a>\u001b[0m     after\u001b[39m=\u001b[39mafter,\n\u001b[1;32m    <a href='file:///opt/conda/lib/python3.9/site-packages/IPython/core/ultratb.py?line=836'>837</a>\u001b[0m     pygments_formatter\u001b[39m=\u001b[39mformatter,\n\u001b[1;32m    <a href='file:///opt/conda/lib/python3.9/site-packages/IPython/core/ultratb.py?line=837'>838</a>\u001b[0m )\n\u001b[1;32m    <a href='file:///opt/conda/lib/python3.9/site-packages/IPython/core/ultratb.py?line=838'>839</a>\u001b[0m \u001b[39massert\u001b[39;00m etb \u001b[39mis\u001b[39;00m \u001b[39mnot\u001b[39;00m \u001b[39mNone\u001b[39;00m\n\u001b[0;32m--> <a href='file:///opt/conda/lib/python3.9/site-packages/IPython/core/ultratb.py?line=839'>840</a>\u001b[0m \u001b[39mreturn\u001b[39;00m \u001b[39mlist\u001b[39;49m(stack_data\u001b[39m.\u001b[39;49mFrameInfo\u001b[39m.\u001b[39;49mstack_data(etb, options\u001b[39m=\u001b[39;49moptions))[tb_offset:]\n",
      "File \u001b[0;32m/opt/conda/lib/python3.9/site-packages/stack_data/core.py:534\u001b[0m, in \u001b[0;36mFrameInfo.stack_data\u001b[0;34m(cls, frame_or_tb, options, collapse_repeated_frames)\u001b[0m\n\u001b[1;32m    <a href='file:///opt/conda/lib/python3.9/site-packages/stack_data/core.py?line=517'>518</a>\u001b[0m \u001b[39m@classmethod\u001b[39m\n\u001b[1;32m    <a href='file:///opt/conda/lib/python3.9/site-packages/stack_data/core.py?line=518'>519</a>\u001b[0m \u001b[39mdef\u001b[39;00m \u001b[39mstack_data\u001b[39m(\n\u001b[1;32m    <a href='file:///opt/conda/lib/python3.9/site-packages/stack_data/core.py?line=519'>520</a>\u001b[0m         \u001b[39mcls\u001b[39m,\n\u001b[0;32m   (...)\u001b[0m\n\u001b[1;32m    <a href='file:///opt/conda/lib/python3.9/site-packages/stack_data/core.py?line=523'>524</a>\u001b[0m         collapse_repeated_frames: \u001b[39mbool\u001b[39m \u001b[39m=\u001b[39m \u001b[39mTrue\u001b[39;00m\n\u001b[1;32m    <a href='file:///opt/conda/lib/python3.9/site-packages/stack_data/core.py?line=524'>525</a>\u001b[0m ) \u001b[39m-\u001b[39m\u001b[39m>\u001b[39m Iterator[Union[\u001b[39m'\u001b[39m\u001b[39mFrameInfo\u001b[39m\u001b[39m'\u001b[39m, RepeatedFrames]]:\n\u001b[1;32m    <a href='file:///opt/conda/lib/python3.9/site-packages/stack_data/core.py?line=525'>526</a>\u001b[0m     \u001b[39m\"\"\"\u001b[39;00m\n\u001b[1;32m    <a href='file:///opt/conda/lib/python3.9/site-packages/stack_data/core.py?line=526'>527</a>\u001b[0m \u001b[39m    An iterator of FrameInfo and RepeatedFrames objects representing\u001b[39;00m\n\u001b[1;32m    <a href='file:///opt/conda/lib/python3.9/site-packages/stack_data/core.py?line=527'>528</a>\u001b[0m \u001b[39m    a full traceback or stack. Similar consecutive frames are collapsed into RepeatedFrames\u001b[39;00m\n\u001b[0;32m   (...)\u001b[0m\n\u001b[1;32m    <a href='file:///opt/conda/lib/python3.9/site-packages/stack_data/core.py?line=531'>532</a>\u001b[0m \u001b[39m    and optionally an Options object to configure.\u001b[39;00m\n\u001b[1;32m    <a href='file:///opt/conda/lib/python3.9/site-packages/stack_data/core.py?line=532'>533</a>\u001b[0m \u001b[39m    \"\"\"\u001b[39;00m\n\u001b[0;32m--> <a href='file:///opt/conda/lib/python3.9/site-packages/stack_data/core.py?line=533'>534</a>\u001b[0m     stack \u001b[39m=\u001b[39m \u001b[39mlist\u001b[39;49m(iter_stack(frame_or_tb))\n\u001b[1;32m    <a href='file:///opt/conda/lib/python3.9/site-packages/stack_data/core.py?line=535'>536</a>\u001b[0m     \u001b[39m# Reverse the stack from a frame so that it's in the same order\u001b[39;00m\n\u001b[1;32m    <a href='file:///opt/conda/lib/python3.9/site-packages/stack_data/core.py?line=536'>537</a>\u001b[0m     \u001b[39m# as the order from a traceback, which is the order of a printed\u001b[39;00m\n\u001b[1;32m    <a href='file:///opt/conda/lib/python3.9/site-packages/stack_data/core.py?line=537'>538</a>\u001b[0m     \u001b[39m# traceback when read top to bottom (most recent call last)\u001b[39;00m\n\u001b[1;32m    <a href='file:///opt/conda/lib/python3.9/site-packages/stack_data/core.py?line=538'>539</a>\u001b[0m     \u001b[39mif\u001b[39;00m is_frame(frame_or_tb):\n",
      "File \u001b[0;32m/opt/conda/lib/python3.9/site-packages/stack_data/utils.py:98\u001b[0m, in \u001b[0;36miter_stack\u001b[0;34m(frame_or_tb)\u001b[0m\n\u001b[1;32m     <a href='file:///opt/conda/lib/python3.9/site-packages/stack_data/utils.py?line=95'>96</a>\u001b[0m \u001b[39mwhile\u001b[39;00m frame_or_tb:\n\u001b[1;32m     <a href='file:///opt/conda/lib/python3.9/site-packages/stack_data/utils.py?line=96'>97</a>\u001b[0m     \u001b[39myield\u001b[39;00m frame_or_tb\n\u001b[0;32m---> <a href='file:///opt/conda/lib/python3.9/site-packages/stack_data/utils.py?line=97'>98</a>\u001b[0m     \u001b[39mif\u001b[39;00m is_frame(frame_or_tb):\n\u001b[1;32m     <a href='file:///opt/conda/lib/python3.9/site-packages/stack_data/utils.py?line=98'>99</a>\u001b[0m         frame_or_tb \u001b[39m=\u001b[39m frame_or_tb\u001b[39m.\u001b[39mf_back\n\u001b[1;32m    <a href='file:///opt/conda/lib/python3.9/site-packages/stack_data/utils.py?line=99'>100</a>\u001b[0m     \u001b[39melse\u001b[39;00m:\n",
      "File \u001b[0;32m/opt/conda/lib/python3.9/site-packages/stack_data/utils.py:91\u001b[0m, in \u001b[0;36mis_frame\u001b[0;34m(frame_or_tb)\u001b[0m\n\u001b[1;32m     <a href='file:///opt/conda/lib/python3.9/site-packages/stack_data/utils.py?line=89'>90</a>\u001b[0m \u001b[39mdef\u001b[39;00m \u001b[39mis_frame\u001b[39m(frame_or_tb: Union[FrameType, TracebackType]) \u001b[39m-\u001b[39m\u001b[39m>\u001b[39m \u001b[39mbool\u001b[39m:\n\u001b[0;32m---> <a href='file:///opt/conda/lib/python3.9/site-packages/stack_data/utils.py?line=90'>91</a>\u001b[0m     assert_(\u001b[39misinstance\u001b[39;49m(frame_or_tb, (types\u001b[39m.\u001b[39;49mFrameType, types\u001b[39m.\u001b[39;49mTracebackType)))\n\u001b[1;32m     <a href='file:///opt/conda/lib/python3.9/site-packages/stack_data/utils.py?line=91'>92</a>\u001b[0m     \u001b[39mreturn\u001b[39;00m \u001b[39misinstance\u001b[39m(frame_or_tb, (types\u001b[39m.\u001b[39mFrameType,))\n",
      "File \u001b[0;32m/opt/conda/lib/python3.9/site-packages/stack_data/utils.py:172\u001b[0m, in \u001b[0;36massert_\u001b[0;34m(condition, error)\u001b[0m\n\u001b[1;32m    <a href='file:///opt/conda/lib/python3.9/site-packages/stack_data/utils.py?line=169'>170</a>\u001b[0m \u001b[39mif\u001b[39;00m \u001b[39misinstance\u001b[39m(error, \u001b[39mstr\u001b[39m):\n\u001b[1;32m    <a href='file:///opt/conda/lib/python3.9/site-packages/stack_data/utils.py?line=170'>171</a>\u001b[0m     error \u001b[39m=\u001b[39m \u001b[39mAssertionError\u001b[39;00m(error)\n\u001b[0;32m--> <a href='file:///opt/conda/lib/python3.9/site-packages/stack_data/utils.py?line=171'>172</a>\u001b[0m \u001b[39mraise\u001b[39;00m error\n",
      "\u001b[0;31mAssertionError\u001b[0m: "
     ]
    }
   ],
   "source": [
    "if __name__ == \"__main__\":\n",
    "    app.run(main)"
   ]
  }
 ],
 "metadata": {
  "jupytext": {
   "cell_metadata_filter": "-all",
   "main_language": "python",
   "notebook_metadata_filter": "-all"
  },
  "kernelspec": {
   "display_name": "Python 3 (ipykernel)",
   "language": "python",
   "name": "python3"
  },
  "language_info": {
   "codemirror_mode": {
    "name": "ipython",
    "version": 3
   },
   "file_extension": ".py",
   "mimetype": "text/x-python",
   "name": "python",
   "nbconvert_exporter": "python",
   "pygments_lexer": "ipython3",
   "version": "3.9.7"
  }
 },
 "nbformat": 4,
 "nbformat_minor": 5
}
