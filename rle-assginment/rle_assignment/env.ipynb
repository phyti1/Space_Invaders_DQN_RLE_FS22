{
 "cells": [
  {
   "cell_type": "code",
   "execution_count": null,
   "id": "bd861902",
   "metadata": {},
   "outputs": [],
   "source": [
    "from typing import Callable"
   ]
  },
  {
   "cell_type": "code",
   "execution_count": null,
   "id": "1d87c346",
   "metadata": {},
   "outputs": [],
   "source": [
    "import gym"
   ]
  },
  {
   "cell_type": "code",
   "execution_count": null,
   "id": "8f621de5",
   "metadata": {},
   "outputs": [],
   "source": [
    "def make_env(render_human: bool = False, video_folder: str = None, video_episode_trigger: Callable[[int], bool] = None):\n",
    "    env = gym.make(\"ALE/SpaceInvaders-v5\",\n",
    "                   obs_type='grayscale',\n",
    "                   frameskip=3,\n",
    "                   repeat_action_probability=0.,\n",
    "                   render_mode='human' if render_human else None)\n",
    "    env = gym.wrappers.RecordEpisodeStatistics(env)\n",
    "    if video_folder is not None:\n",
    "        env = gym.wrappers.RecordVideo(env, video_folder, video_episode_trigger)\n",
    "    return env"
   ]
  }
 ],
 "metadata": {
  "jupytext": {
   "cell_metadata_filter": "-all",
   "main_language": "python",
   "notebook_metadata_filter": "-all"
  }
 },
 "nbformat": 4,
 "nbformat_minor": 5
}
